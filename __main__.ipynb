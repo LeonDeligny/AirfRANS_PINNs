{
 "cells": [
  {
   "cell_type": "code",
   "execution_count": 1,
   "metadata": {},
   "outputs": [
    {
     "name": "stderr",
     "output_type": "stream",
     "text": [
      "100%|██████████| 1/1 [00:00<00:00,  4.12it/s]"
     ]
    },
    {
     "name": "stdout",
     "output_type": "stream",
     "text": [
      "Uinf: 31.677, alpha: -0.012950343049797924\n",
      "                            x                     y                   sdf  \\\n",
      "0      0.42432203888893127441  200.0000000000000000  199.9449615478515625   \n",
      "1      0.23053441941738128662  200.0001068115234375  199.9451751708984375   \n",
      "2      0.03476659581065177917  200.0000305175781250  199.9453735351562500   \n",
      "3     -0.16300146281719207764  199.9997558593750000  199.9455566406250000   \n",
      "4     -0.36278998851776123047  199.9992828369140625  199.9457702636718750   \n",
      "...                       ...                   ...                   ...   \n",
      "1619  34.31533050537109375000 -200.0000000000000000  202.7557830810546875   \n",
      "1620  34.11040115356445312500 -200.0000000000000000  202.7222137451171875   \n",
      "1621  33.90982818603515625000 -200.0000000000000000  202.6895599365234375   \n",
      "1622  33.71352005004882812500 -200.0000000000000000  202.6577758789062500   \n",
      "1623  33.52138519287109375000 -200.0000000000000000  202.6268463134765625   \n",
      "\n",
      "                           u                       v                       p  \\\n",
      "0     31.6746997833251953125 -0.41141098737716674805 -0.09417035430669784546   \n",
      "1     31.6746997833251953125 -0.41141301393508911133 -0.09392351657152175903   \n",
      "2     31.6746997833251953125 -0.41141399741172790527 -0.09372201561927795410   \n",
      "3     31.6746997833251953125 -0.41141399741172790527 -0.09353692084550857544   \n",
      "4     31.6746997833251953125 -0.41141399741172790527 -0.09336161613464355469   \n",
      "...                      ...                     ...                     ...   \n",
      "1619  31.6744995117187500000 -0.41233998537063598633  0.07559877634048461914   \n",
      "1620  31.6744995117187500000 -0.41233450174331665039  0.07572392374277114868   \n",
      "1621  31.6744995117187500000 -0.41232949495315551758  0.07584677636623382568   \n",
      "1622  31.6744995117187500000 -0.41232448816299438477  0.07596047222614288330   \n",
      "1623  31.6744995117187500000 -0.41231951117515563965  0.07606446743011474609   \n",
      "\n",
      "                         nut  \n",
      "0     0.00001560000055178534  \n",
      "1     0.00001560000055178534  \n",
      "2     0.00001560000055178534  \n",
      "3     0.00001560000055178534  \n",
      "4     0.00001560000055178534  \n",
      "...                      ...  \n",
      "1619  0.00000000309698511280  \n",
      "1620  0.00000000309703507284  \n",
      "1621  0.00000000309708503288  \n",
      "1622  0.00000000309713499291  \n",
      "1623  0.00000000309718495295  \n",
      "\n",
      "[1624 rows x 7 columns]\n",
      "Datasets Loaded.\n"
     ]
    },
    {
     "name": "stderr",
     "output_type": "stream",
     "text": [
      "\n"
     ]
    }
   ],
   "source": [
    "import numpy as np, pandas as pd\n",
    "import torch, os, logging\n",
    "\n",
    "from datetime import datetime\n",
    "from torch.utils.tensorboard import SummaryWriter\n",
    "\n",
    "from preprocessing import load_dataset, normalize\n",
    "\n",
    "# Set up Python logging\n",
    "logging.basicConfig(level=logging.ERROR)\n",
    "\n",
    "# Create a log directory with a timestamp to keep different runs separate\n",
    "logdir = os.path.join(\"logs\", datetime.now().strftime(\"%Y%m%d-%H%M%S\"))\n",
    "os.makedirs(logdir, exist_ok=True)\n",
    "writer = SummaryWriter(logdir)\n",
    "\n",
    "pd.set_option('display.precision', 20)\n",
    "\n",
    "torch.manual_seed(1234)\n",
    "torch.autograd.set_detect_anomaly(True)\n",
    "\n",
    "if __name__ == \"__main__\":\n",
    "\n",
    "    # Load Data (change path if needed)\n",
    "    path = [\"airFoil2D_SST_31.677_-0.742_2.926_5.236_5.651\"]\n",
    "    train_data, len_list = load_dataset(path, \n",
    "                                       n_random_sampling = 0\n",
    "                                       )\n",
    "\n",
    "    Uinf, alpha, gamma_1, gamma_2, gamma_3 = float(path[0].split('_')[2]), float(path[0].split('_')[3])*np.pi/180, float(path[0].split('_')[4]), float(path[0].split('_')[5]), float(path[0].split('_')[6])\n",
    "    print(f\"Uinf: {Uinf}, alpha: {alpha}\")\n",
    "    \n",
    "    u_inlet, v_inlet = np.cos(alpha)*Uinf, np.sin(alpha)*Uinf\n",
    "    \n",
    "    df_train_input = pd.DataFrame(train_data[0].x_train, columns=[\"x\", \"y\", \"sdf\"])\n",
    "    df_train_target = pd.DataFrame(train_data[0].y_train, columns=[\"u\", \"v\", \"p\", \"nut\"])\n",
    "    df_train = pd.concat([df_train_input, df_train_target], axis=1) \n",
    "    \n",
    "    df_freestream = df_train.iloc[:len_list[0],:]\n",
    "    print(df_freestream)\n",
    "\n",
    "    df_train_n, mean_variance_dict = normalize(df_train) # [len(freestream_attr), len(aerofoil_attr), len(internal_attr), len(internal_attr_sample)]\n",
    "    \n",
    "    df_freestream_n = df_train_n.iloc[:len_list[0],:]\n",
    "    df_aerofoil_n = df_train_n.iloc[len_list[0]:len_list[0]+len_list[1],:]\n",
    "    df_box_n = df_train_n.iloc[len_list[0]:len_list[0]+len_list[1]+len_list[2],:]\n",
    "        \n",
    "    print(\"Datasets Loaded.\")"
   ]
  },
  {
   "cell_type": "code",
   "execution_count": null,
   "metadata": {},
   "outputs": [],
   "source": [
    "from PIMNN_Phy_Bc import PIMNN_Phy_Bc\n",
    "from plot import plot_predictions_vs_test, plot_test\n",
    "\n",
    "# Train the model\n",
    "model = PIMNN_Phy_Bc(df_train_n, df_freestream_n, df_aerofoil_n, mean_variance_dict, u_inlet, v_inlet, gamma_1, gamma_2, gamma_3)\n",
    "# model.pre_train(51)\n",
    "# print(f\"Finished pre-Training.\")\n",
    "print(f\"Started Training.\")\n",
    "model.train(101)\n",
    "print(f\"Finished Training.\")"
   ]
  },
  {
   "cell_type": "code",
   "execution_count": null,
   "metadata": {},
   "outputs": [],
   "source": [
    "# Prediction u_pred, v_pred, p_pred, nut_pred\n",
    "nut_pred = model.predict(df_box_n, mean_variance_dict, u_inlet, v_inlet, gamma_1, gamma_2, gamma_3)\n",
    "\n",
    "# Plotting\n",
    "# plot_predictions_vs_test(df_box_n['x'].astype(float).values.flatten(), df_box_n['y'].astype(float).values.flatten(), u_pred, df_box_n['u'], 'u', 'PINN_u_Supervised')\n",
    "# plot_predictions_vs_test(df_box_n['x'].astype(float).values.flatten(), df_box_n['y'].astype(float).values.flatten(), v_pred, df_box_n['v'], 'v', 'PINN_v_Supervised')\n",
    "# plot_predictions_vs_test(df_box_n['x'].astype(float).values.flatten(), df_box_n['y'].astype(float).values.flatten(), p_pred, df_box_n['p'], 'p', 'PINN_p_Supervised')\n",
    "plot_predictions_vs_test(df_box_n['x'].astype(float).values.flatten(), df_box_n['y'].astype(float).values.flatten(), nut_pred, df_box_n['nut'], 'nut', 'PINN_nut_Supervised')"
   ]
  }
 ],
 "metadata": {
  "kernelspec": {
   "display_name": "Python 3",
   "language": "python",
   "name": "python3"
  },
  "language_info": {
   "codemirror_mode": {
    "name": "ipython",
    "version": 3
   },
   "file_extension": ".py",
   "mimetype": "text/x-python",
   "name": "python",
   "nbconvert_exporter": "python",
   "pygments_lexer": "ipython3",
   "version": "3.11.4"
  }
 },
 "nbformat": 4,
 "nbformat_minor": 2
}
