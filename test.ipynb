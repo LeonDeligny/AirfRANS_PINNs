{
 "cells": [
  {
   "cell_type": "markdown",
   "metadata": {},
   "source": [
    "Loading the dataset."
   ]
  },
  {
   "cell_type": "code",
   "execution_count": 3,
   "metadata": {},
   "outputs": [
    {
     "name": "stderr",
     "output_type": "stream",
     "text": [
      "100%|██████████| 1/1 [00:00<00:00,  4.58it/s]"
     ]
    },
    {
     "name": "stdout",
     "output_type": "stream",
     "text": [
      "[Data(x=[170180, 7], y=[170180, 4], pos=[170180, 2], surf=[170180])]\n",
      "(array([ 4.87830133e-01,  1.48868764e-03,  5.87172837e+01, -3.65611185e+00,\n",
      "        2.37907786e-01, -1.74464976e-03, -1.04686929e-04]), array([7.2426224e-01, 3.3137634e-01, 1.4390824e-06, 1.0360733e-07,\n",
      "       4.8362714e-01, 4.1096836e-02, 6.2089153e-02], dtype=float32), array([ 4.22720859e+01, -8.26188865e+00,  2.03104999e+00,  5.60392691e-04]), array([2.1242563e+01, 1.5898372e+01, 6.9098920e+02, 1.4482054e-03],\n",
      "      dtype=float32))\n"
     ]
    },
    {
     "name": "stderr",
     "output_type": "stream",
     "text": [
      "\n"
     ]
    }
   ],
   "source": [
    "from dataset import Dataset\n",
    "\n",
    "path = [\"airFoil2D_SST_58.831_-3.563_2.815_4.916_10.078\"]\n",
    "\n",
    "data, coef_norm = Dataset(path, norm=True, sample=None)\n",
    "\n",
    "print(data)\n",
    "print(coef_norm)"
   ]
  },
  {
   "cell_type": "code",
   "execution_count": 33,
   "metadata": {},
   "outputs": [
    {
     "name": "stdout",
     "output_type": "stream",
     "text": [
      "170180\n",
      "84618 85562 84618\n"
     ]
    }
   ],
   "source": [
    "import pandas as pd, numpy as np\n",
    "\n",
    "\n",
    "df_input = pd.DataFrame(data[0].x, columns=[\"x\", \"y\", \"u_inlet\", \"v_inlet\", \"sdf\", \"x_normal\", \"y_normal\"])\n",
    "df_target = pd.DataFrame(data[0].y, columns=[\"u\", \"v\", \"p\", \"nut\"])\n",
    "df_surf = pd.DataFrame(data[0].surf, columns=[\"surf_bool\"])\n",
    "\n",
    "XY = df_input[['x', 'y']].values\n",
    "XY_NORMAL = df_input[[\"x_normal\", \"y_normal\"]].values\n",
    "SDF = df_input[['sdf']].values\n",
    "UV = df_target[['u', 'v']].values\n",
    "P = df_target[['p']].values\n",
    "NUT = df_target[['nut']].values\n",
    "SURF = df_surf[['surf_bool']].values\n",
    "\n",
    "# Constants\n",
    "gamma_values = np.array([2.815, 4.916, 10.078]).reshape(-1, 1)\n",
    "\n",
    "N = XY.shape[0]\n",
    "\n",
    "zero_normal_indices = np.where(SURF == True)[0]\n",
    "remaining_indices = np.setdiff1d(np.arange(N), zero_normal_indices)\n",
    "N_train = int(0.5 * remaining_indices.shape[0])\n",
    "\n",
    "id_train = np.random.choice(remaining_indices, N_train, replace=False)\n",
    "id_train = np.union1d(id_train, zero_normal_indices)\n",
    "id_test = np.setdiff1d(np.arange(N), id_train)\n",
    "\n",
    "print(N)\n",
    "\n",
    "id_t = np.setdiff1d(id_test, id_train)\n",
    "\n",
    "\n",
    "print(id_test.shape[0], id_train.shape[0], id_t.shape[0])\n",
    "\n",
    "\n",
    "# print( (df_input['x'] * (coef_norm[1][0] + 1e-8)) + coef_norm[0][0] )"
   ]
  }
 ],
 "metadata": {
  "kernelspec": {
   "display_name": "Python 3",
   "language": "python",
   "name": "python3"
  },
  "language_info": {
   "codemirror_mode": {
    "name": "ipython",
    "version": 3
   },
   "file_extension": ".py",
   "mimetype": "text/x-python",
   "name": "python",
   "nbconvert_exporter": "python",
   "pygments_lexer": "ipython3",
   "version": "3.11.4"
  }
 },
 "nbformat": 4,
 "nbformat_minor": 2
}
